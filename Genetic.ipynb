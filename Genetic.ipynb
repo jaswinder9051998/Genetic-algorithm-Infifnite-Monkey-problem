{
  "nbformat": 4,
  "nbformat_minor": 0,
  "metadata": {
    "colab": {
      "name": "Genetic.ipynb",
      "version": "0.3.2",
      "provenance": [],
      "collapsed_sections": []
    },
    "kernelspec": {
      "name": "python3",
      "display_name": "Python 3"
    }
  },
  "cells": [
    {
      "cell_type": "code",
      "metadata": {
        "id": "Z4Dd9A6PJoZ5",
        "colab_type": "code",
        "colab": {}
      },
      "source": [
        "import random\n",
        "import sys"
      ],
      "execution_count": 0,
      "outputs": []
    },
    {
      "cell_type": "code",
      "metadata": {
        "id": "bZZ6MNW6V4_W",
        "colab_type": "code",
        "colab": {}
      },
      "source": [
        "POP=1000"
      ],
      "execution_count": 0,
      "outputs": []
    },
    {
      "cell_type": "code",
      "metadata": {
        "id": "W5RkZNBZHezg",
        "colab_type": "code",
        "colab": {}
      },
      "source": [
        "string=\"To be or not to be that is the question\"\n",
        "LEN=len(string)"
      ],
      "execution_count": 0,
      "outputs": []
    },
    {
      "cell_type": "code",
      "metadata": {
        "id": "oVhkbXWvHV9X",
        "colab_type": "code",
        "colab": {}
      },
      "source": [
        "class DNA(object):\n",
        "  def __init__(self,LEN):\n",
        "    self.gene=\"\"\n",
        "    self.LEN=LEN\n",
        "  def randallocate(self,):\n",
        "    for i in range(self.LEN):\n",
        "      val=random.randint(65,124)\n",
        "      if(val==123):\n",
        "        val=32\n",
        "      self.gene=self.gene+(chr)(val)\n",
        "  def pD(self,):\n",
        "    print(self.gene)\n",
        "    print(\"\\n\")\n",
        "  def fitness(self,string):\n",
        "    score=0.0\n",
        "    for i in range(self.LEN):\n",
        "      if(self.gene[i]==string[i]):\n",
        "        score+=1\n",
        "    return (float)((score)/(float)(self.LEN))\n",
        "      \n",
        "    \n",
        "    \n",
        "    \n",
        "  \n",
        "  \n",
        "    \n",
        "    "
      ],
      "execution_count": 0,
      "outputs": []
    },
    {
      "cell_type": "code",
      "metadata": {
        "id": "8cvDT511LWOI",
        "colab_type": "code",
        "colab": {}
      },
      "source": [
        "class population:\n",
        "  def __init__(self,size,string,mutR):\n",
        "    self.size=size\n",
        "    self.pop=[]\n",
        "    self.fit=[]\n",
        "    self.matingp=[]\n",
        "    self.string=string\n",
        "    self.mutR=mutR\n",
        "    self.LEN=len(string)\n",
        "  def create(self,):\n",
        "    for i in range(self.size):\n",
        "      self.pop.append(DNA(len(self.string)))\n",
        "    for obj in self.pop:\n",
        "      obj.randallocate()\n",
        "    self.fitness()\n",
        "    \n",
        "  def p(self,):\n",
        "    i=0\n",
        "    for obj in self.pop:\n",
        "      print(obj.gene,\" \",self.fit[i],\"\\n\")\n",
        "      i+=1\n",
        "      \n",
        "  def fitness(self,):\n",
        "    self.fit=[]\n",
        "    for obj in self.pop:\n",
        "      self.fit.append(obj.fitness(self.string))\n",
        "    \n",
        "      \n",
        "  def check(self,):\n",
        "    self.fitness()\n",
        "    for obj in self.pop:\n",
        "      if(obj.gene==self.string):\n",
        "        return 0\n",
        "    return 1\n",
        "  \n",
        "  def mating(self,):\n",
        "    self.matingp=[]\n",
        "    maxx=max(self.fit)\n",
        "    minn=min(self.fit)\n",
        "    for obj in self.pop:\n",
        "      n=(int)((obj.fitness(self.string))*100)\n",
        "      for j in range(n):\n",
        "        self.matingp.append(obj)\n",
        "        \n",
        "  def reprod(self,):\n",
        "    \n",
        "    self.fitness()\n",
        "    self.mating()\n",
        "    #print(len(self.matingp))\n",
        "    for i in range(self.size):\n",
        "      m=random.randint(0,len(self.matingp)-1)\n",
        "      n=random.randint(0,len(self.matingp)-1)\n",
        "      obj1=self.matingp[m]\n",
        "      obj2=self.matingp[n]\n",
        "      \n",
        "      child=DNA(len(self.string))\n",
        "      mid=random.randint(0,len(self.string)-1)\n",
        "      for j in range(len(self.string)):\n",
        "        if(j>mid):\n",
        "          child.gene=child.gene+obj1.gene[j]\n",
        "        else:\n",
        "          child.gene=child.gene+obj2.gene[j]\n",
        "      for k in range(len(string)):\n",
        "        if(random.random()<self.mutR):\n",
        "          val=random.randint(65,124)\n",
        "          if(val==123):\n",
        "            val=32\n",
        "          child.gene=child.gene.replace(child.gene[k],(chr)(val))\n",
        "      self.pop[i]=child\n",
        "     "
      ],
      "execution_count": 0,
      "outputs": []
    },
    {
      "cell_type": "code",
      "metadata": {
        "id": "NcCD1gObmHs_",
        "colab_type": "code",
        "outputId": "464543ef-544c-49a0-e15c-596a6a887a3d",
        "colab": {
          "base_uri": "https://localhost:8080/",
          "height": 34
        }
      },
      "source": [
        "pp=population(2000,string,0.001)\n",
        "pp.create()\n",
        "flag=1\n",
        "generation=1\n",
        "while(flag):\n",
        "  flag=pp.check()\n",
        "  sys.stdout.write('\\r'+((str)(pp.pop[pp.fit.index(max(pp.fit))].gene)+\" generation: \"+(str)(generation)+\" avg fit \"+(str)((int)(sum(pp.fit)/10))))\n",
        "  sys.stdout.flush()\n",
        "  pp.reprod()\n",
        "  generation+=1\n",
        "  \n",
        "  "
      ],
      "execution_count": 26,
      "outputs": [
        {
          "output_type": "stream",
          "text": [
            "To be or not to be that is the question generation: 105 avg fit 156"
          ],
          "name": "stdout"
        }
      ]
    }
  ]
}